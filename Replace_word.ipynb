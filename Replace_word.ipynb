{
  "nbformat": 4,
  "nbformat_minor": 0,
  "metadata": {
    "colab": {
      "provenance": [],
      "authorship_tag": "ABX9TyOXxe4vxNK/3nGeIwCVckFl",
      "include_colab_link": true
    },
    "kernelspec": {
      "name": "python3",
      "display_name": "Python 3"
    },
    "language_info": {
      "name": "python"
    }
  },
  "cells": [
    {
      "cell_type": "markdown",
      "metadata": {
        "id": "view-in-github",
        "colab_type": "text"
      },
      "source": [
        "<a href=\"https://colab.research.google.com/github/amrilio/seo/blob/main/Replace_word.ipynb\" target=\"_parent\"><img src=\"https://colab.research.google.com/assets/colab-badge.svg\" alt=\"Open In Colab\"/></a>"
      ]
    },
    {
      "cell_type": "code",
      "execution_count": null,
      "metadata": {
        "id": "ZoZSjSHJLqna"
      },
      "outputs": [],
      "source": [
        "#!pip install python-docx\n",
        "\n",
        "import docx\n",
        "\n",
        "# Define the function to replace keywords in a template with specified values\n",
        "def replace_keywords(keyword, template, value):\n",
        "    # Replace the keyword with the specified value in the template\n",
        "    result = template.replace(keyword, value)\n",
        "    return result\n",
        "\n",
        "# Get user input for the keyword, .docx template file, and value\n",
        "keyword = input(\"Enter the keyword to replace: \")\n",
        "template_path = input(\"Enter the path of the .docx template file: \")\n",
        "value = input(\"Enter the value to replace the keyword with: \")\n",
        "\n",
        "# Load the template .docx file\n",
        "template_doc = docx.Document(template_path)\n",
        "\n",
        "# Extract the text from the template\n",
        "template_text = \"\"\n",
        "for paragraph in template_doc.paragraphs:\n",
        "    template_text += paragraph.text\n",
        "\n",
        "# Call the replace_keywords function with the user input\n",
        "output_text = replace_keywords(keyword, template_text, value)\n",
        "\n",
        "# Get user input for the output type\n",
        "output_type = input(\"Enter the output type (print or file): \")\n",
        "\n",
        "# Output the result as a printed text or a new .docx file\n",
        "if output_type == \"print\":\n",
        "    print(output_text)\n",
        "elif output_type == \"file\":\n",
        "    output_path = input(\"Enter the path of the output .docx file: \")\n",
        "    output_doc = docx.Document()\n",
        "    output_doc.add_paragraph(output_text)\n",
        "    output_doc.save(output_path)\n",
        "    print(f\"Output saved as {output_path}\")\n",
        "else:\n",
        "    print(\"Invalid output type\")\n",
        "\n"
      ]
    },
    {
      "cell_type": "code",
      "source": [],
      "metadata": {
        "id": "sxmF2xALMPOA"
      },
      "execution_count": null,
      "outputs": []
    }
  ]
}